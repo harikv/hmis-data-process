{
 "metadata": {
  "language_info": {
   "codemirror_mode": {
    "name": "ipython",
    "version": 3
   },
   "file_extension": ".py",
   "mimetype": "text/x-python",
   "name": "python",
   "nbconvert_exporter": "python",
   "pygments_lexer": "ipython3",
   "version": "3.9.1-final"
  },
  "orig_nbformat": 2,
  "kernelspec": {
   "name": "python39164bithmisdataprocessconda5d3b8b3c043849b9bebeae4db64b770f",
   "display_name": "Python 3.9.1 64-bit ('hmis-data-process': conda)",
   "language": "python"
  }
 },
 "nbformat": 4,
 "nbformat_minor": 2,
 "cells": [
  {
   "cell_type": "code",
   "execution_count": null,
   "metadata": {},
   "outputs": [],
   "source": [
    "import pandas as pd\n",
    "import calendar\n",
    "import openpyxl\n",
    "from openpyxl import load_workbook\n",
    "import subprocess\n",
    "import re\n",
    "import os\n",
    "import numpy as np\n",
    "import collections\n",
    "import csv"
   ]
  },
  {
   "cell_type": "code",
   "execution_count": null,
   "metadata": {},
   "outputs": [],
   "source": [
    "# Prepare variables\n",
    "months = list(calendar.month_name[1:])\n",
    "years = ['2017', '2018', '2019', '2020']\n",
    "years_test = ['2018']\n",
    "states = [\"A & N Islands\", \"Andhra Pradesh\", \"Arunachal Pradesh\", \"Assam\", \"Bihar\", \"Chandigarh\", \"Chhattisgarh\", \"Dadra & Nagar Haveli\", \"Daman & Diu\", \"Delhi\", \"Goa\", \"Gujarat\", \"Haryana\", \"Himachal Pradesh\", \"Jammu & Kashmir\", \"Jharkhand\", \"Karnataka\", \"Kerala\", \"Lakshadweep\", \"Madhya Pradesh\", \"Maharashtra\", \"Manipur\", \"Meghalaya\", \"Mizoram\", \"Nagaland\", \"Odisha\", \"Puducherry\", \"Punjab\", \"Rajasthan\", \"Sikkim\", \"Tamil Nadu\", \"Telangana\", \"Tripura\", \"Uttar Pradesh\", \"Uttarakhand\", \"West Bengal\"]\n",
    "# states_2 = [\"Chandigarh\", \"Chhattisgarh\", \"Dadra & Nagar Haveli\", \"Daman & Diu\", \"Delhi\", \"Goa\", \"Gujarat\", \"Haryana\", \"Himachal Pradesh\", \"Jammu & Kashmir\", \"Jharkhand\", \"Karnataka\", \"Kerala\", \"Lakshadweep\", \"Madhya Pradesh\", \"Maharashtra\", \"Manipur\", \"Meghalaya\", \"Mizoram\", \"Nagaland\", \"Odisha\", \"Puducherry\", \"Punjab\", \"Rajasthan\", \"Sikkim\", \"Tamil Nadu\", \"Telangana\", \"Tripura\", \"Uttar Pradesh\", \"Uttarakhand\", \"West Bengal\"]\n",
    "states_test = ['Maharashtra']"
   ]
  },
  {
   "cell_type": "code",
   "execution_count": null,
   "metadata": {},
   "outputs": [],
   "source": [
    "# Hold data frame columns\n",
    "df_columns = ['year', 'month', 'state', 'district']\n",
    "df_column_labels = collections.OrderedDict()\n",
    "df_column_labels['year'] = 'Year'\n",
    "df_column_labels['month'] = 'Month'\n",
    "df_column_labels['state'] = 'State name as string'\n",
    "df_column_labels['district'] = 'District name as string'\n"
   ]
  },
  {
   "cell_type": "code",
   "execution_count": null,
   "metadata": {},
   "outputs": [],
   "source": [
    "def convert_to_stata_variable(input):\n",
    "    STATA_LIMIT = 80        \n",
    "    cur_length = len(input)    \n",
    "    # Remove non alphanumeric and space/- characters\n",
    "    input = re.sub(r'[^a-zA-Z0-9.\\-\\s]', '', input)\n",
    "    input = re.sub(r'\\s+-\\s+', ' ', input)\n",
    "    input = re.sub(r'-', '_', input) \n",
    "    # Split string into words\n",
    "    words = input.split()\n",
    "    # IF only word is there return it\n",
    "    if len(words) == 1:\n",
    "        return input\n",
    "    trunc_words = []    \n",
    "    for word in words:\n",
    "        # Check for stop words\n",
    "        if word.lower() in ['of', 'and', 'or', 'due', 'to', 'a', 'the', 'etc', 'for']:\n",
    "            continue\n",
    "        elif len(word) < 5:\n",
    "            # Check for capitalization\n",
    "            if word[0].isupper():\n",
    "                trunc_words.append(word)\n",
    "            else:\n",
    "                trunc_words.append(word.capitalize())\n",
    "        else:\n",
    "            # truncate to three            \n",
    "            if word[0].isupper():\n",
    "                trunc_words.append(word[:4])\n",
    "            else:\n",
    "                trunc_words.append(word[:4].capitalize())\n",
    "    return ''.join(trunc_words)"
   ]
  },
  {
   "cell_type": "code",
   "execution_count": null,
   "metadata": {
    "tags": []
   },
   "outputs": [],
   "source": [
    "# count = 0\n",
    "# for key, val in df_column_labels.items():\n",
    "#     count = count + 1    \n",
    "#     new_label = convert_to_stata_variable(key)    \n",
    "#     if len(new_label) > 80:\n",
    "#         print(key)\n",
    "#         print(new_label)\n",
    "    "
   ]
  },
  {
   "cell_type": "code",
   "execution_count": null,
   "metadata": {},
   "outputs": [],
   "source": [
    "def process_hmis_xls_file(state, year, month):\n",
    "    row_dicts = []\n",
    "    # Read xls file\n",
    "    wb = load_workbook('data/converted/{}_{}_{}.xlsx'.format(year, state, month))\n",
    "    ws = wb['Sheet1']    \n",
    "    # Get the cell containing district names\n",
    "    district_columns = {}\n",
    "    district_range_left_bound = 'E10' \n",
    "    district_range_right_bound = ''   \n",
    "    for cell_range in ws.merged_cells.ranges:\n",
    "        excel_left_coord, excel_right_coord = cell_range.coord.split(':')\n",
    "        if excel_left_coord == 'E9':\n",
    "            district_range_right_bound = excel_right_coord[:-1] + '10'\n",
    "            break\n",
    "    district_range = openpyxl.worksheet.cell_range.CellRange('{}:{}'.format(district_range_left_bound, district_range_right_bound))\n",
    "    for cell_range in ws.merged_cells.ranges:\n",
    "        if cell_range.issubset(district_range):\n",
    "            excel_left_coord, excel_right_coord = cell_range.coord.split(':')\n",
    "            district_name = ws[excel_left_coord].value\n",
    "            # Skip totals (for now)\n",
    "            if district_name[0] == '_':\n",
    "                continue\n",
    "            else:\n",
    "                district_columns[district_name] = excel_left_coord[:-2]\n",
    "    for district_name, district_column in district_columns.items():\n",
    "        district_data = {            \n",
    "            'year': year,\n",
    "            'month': month,\n",
    "            'state': state,\n",
    "            'district': district_name\n",
    "        }\n",
    "        # Hardcode row range for now        \n",
    "        for row in range(12,548):\n",
    "            # Construct column title\n",
    "            prim_label_cell = 'C{}'.format(row)\n",
    "            prim_label = ws[prim_label_cell].value\n",
    "            if prim_label is None:\n",
    "                label_range = openpyxl.worksheet.cell_range.CellRange('{}:{}'.format(prim_label_cell, prim_label_cell))                \n",
    "                # Check in merged cells\n",
    "                for cell_range in ws.merged_cells.ranges:\n",
    "                    if label_range.issubset(cell_range):\n",
    "                        excel_left_coord, excel_right_coord = cell_range.coord.split(':')\n",
    "                        prim_label = ws[excel_left_coord].value         \n",
    "            sec_label = ws['D{}'.format(row)].value        \n",
    "            if sec_label != 'TOTAL':\n",
    "                # Format a bit\n",
    "                sec_label_formatted = re.sub(r'\\d+\\.\\s+', '', sec_label)\n",
    "                prim_label = prim_label + ' ' + sec_label_formatted\n",
    "            # Convert prim_label to state specific format so that it doesn't get truncated in the future\n",
    "            conv_label = convert_to_stata_variable(prim_label)\n",
    "            if conv_label not in df_column_labels:\n",
    "                df_column_labels[conv_label] = prim_label\n",
    "            cell_value = ws['{}{}'.format(district_column, row)].value\n",
    "            if cell_value == '':\n",
    "                cell_value = np.nan            \n",
    "            district_data[conv_label] = cell_value\n",
    "        row_dicts.append(district_data)    \n",
    "    return row_dicts    \n",
    "        \n",
    "    "
   ]
  },
  {
   "cell_type": "code",
   "execution_count": null,
   "metadata": {
    "tags": []
   },
   "outputs": [],
   "source": [
    "process_hmis_xls_file('Maharashtra', '2018', 'January')"
   ]
  },
  {
   "cell_type": "code",
   "execution_count": null,
   "metadata": {},
   "outputs": [],
   "source": [
    "# Write a function to convert xls to xlsx\n",
    "def convert_to_xlsx(state, year, month):\n",
    "    # Assume that file doesn't exist\n",
    "    convert_cmd = subprocess.run([\"/Applications/LibreOffice.app/Contents/MacOS/soffice\", \"--headless\", \"--convert-to\", \"xlsx\", \"--outdir\", \"data/converted/\", \"data/{}_{}_{}.xls\".format(year, state, month)])\n",
    "    if convert_cmd.returncode != 0:\n",
    "        print('Error converting file for {} {} {}'.format(state, year, month))\n",
    "        return False\n",
    "    return True\n",
    "    "
   ]
  },
  {
   "cell_type": "code",
   "execution_count": null,
   "metadata": {},
   "outputs": [],
   "source": [
    "convert_to_xlsx(\"A & N Islands\", 2017, \"September\")"
   ]
  },
  {
   "cell_type": "code",
   "execution_count": null,
   "metadata": {},
   "outputs": [],
   "source": [
    "for key, item in df_column_labels.items():\n",
    "    if len(item) > 80:\n",
    "        print(item)\n",
    "        print(key)\n",
    "        print(len(item))"
   ]
  },
  {
   "cell_type": "code",
   "execution_count": null,
   "metadata": {
    "tags": []
   },
   "outputs": [],
   "source": [
    "for state in states:\n",
    "    state_rows = []\n",
    "    for year in years:\n",
    "        for month in months:\n",
    "            # Check if file exists for the month\n",
    "            if os.path.exists('data/{}_{}_{}.xls'.format(year, state, month)):\n",
    "                # Proceed to check if xlsx file exists\n",
    "                if os.path.exists('data/converted/{}_{}_{}.xlsx'.format(year, state, month)):\n",
    "                    month_rows = process_hmis_xls_file(state, year, month)\n",
    "                    state_rows.extend(month_rows)\n",
    "                else:\n",
    "                    conv_success = convert_to_xlsx(state, year, month)\n",
    "                    if conv_success:\n",
    "                        month_rows = process_hmis_xls_file(state, year, month)\n",
    "                        state_rows.extend(month_rows)\n",
    "                    else:\n",
    "                        print(\"Unable to convert XLS file for {} {} {}\".format(state, year, month))\n",
    "            else:\n",
    "                print(\"Skipping {} {} {} as no file found...\".format(year, state, month))        \n",
    "    # Create dataframe for values for a state across all years        \n",
    "    state_df = pd.DataFrame.from_dict(state_rows)\n",
    "    # Coerce all columns to numeric where possible\n",
    "    cols = list(df_column_labels.keys())[4:]\n",
    "    state_df[cols] = state_df[cols].apply(pd.to_numeric, axis=1)    \n",
    "    state_df.to_csv('output/{}.csv'.format(state), index=False) \n",
    "    # Modify df_labels for stata\n",
    "    df_stata_labels = {}\n",
    "    for key, item in df_column_labels.items():\n",
    "        if len(item) > 80:\n",
    "            df_stata_labels[key] = item[:77] + '...'\n",
    "        else:\n",
    "            df_stata_labels[key] = item           \n",
    "    state_df.to_stata('output/{}.dta'.format(state), write_index=False, variable_labels=df_stata_labels, version=118)\n",
    "    print(\"{} written to file\".format(state))    \n",
    "\n"
   ]
  },
  {
   "cell_type": "code",
   "execution_count": null,
   "metadata": {},
   "outputs": [],
   "source": [
    "# Write variable labels to seperate file\n",
    "label_file = open('output/labels.csv', 'w')\n",
    "csvwriter = csv.writer(label_file)\n",
    "csvwriter.writerow([\"Stata Variable Name\", \"Detailed Label\"])\n",
    "for key, item in df_column_labels.items():\n",
    "    csvwriter.writerow([key, item])\n",
    "label_file.close()\n"
   ]
  },
  {
   "cell_type": "code",
   "execution_count": null,
   "metadata": {},
   "outputs": [],
   "source": [
    "combined_df = pd.DataFrame()\n",
    "variable_labels = {}\n",
    "for state in states:\n",
    "    stata_reader = pd.read_stata(\"output/{}.dta\".format(state), iterator=True)\n",
    "    state_df = pd.read_stata(\"output/{}.dta\".format(state))\n",
    "    variable_labels = {**variable_labels, **stata_reader.variable_labels()}\n",
    "    combined_df = pd.concat([combined_df, state_df])    \n",
    "combined_df.info()"
   ]
  },
  {
   "cell_type": "code",
   "execution_count": null,
   "metadata": {},
   "outputs": [],
   "source": [
    "# Read label file\n",
    "lab_file = open('output/labels.csv')\n",
    "csvreader = csv.reader(lab_file)\n",
    "stata_labels = {}\n",
    "for row in csvreader:\n",
    "    if len(row[1]) > 79:\n",
    "        stata_labels[row[0]] = row[1][:76] + '...'\n",
    "    else:\n",
    "        stata_labels[row[0]] = row[1]\n",
    "lab_file.close()"
   ]
  },
  {
   "cell_type": "code",
   "execution_count": null,
   "metadata": {},
   "outputs": [],
   "source": [
    "combined_df.to_csv('output/combined.csv', index=False)"
   ]
  },
  {
   "cell_type": "code",
   "execution_count": null,
   "metadata": {},
   "outputs": [],
   "source": [
    "combined_df.to_stata('output/combined.dta', write_index=False, variable_labels=stata_labels, version=118)"
   ]
  },
  {
   "cell_type": "code",
   "execution_count": null,
   "metadata": {},
   "outputs": [],
   "source": []
  }
 ]
}